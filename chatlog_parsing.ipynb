{
 "cells": [
  {
   "cell_type": "code",
   "execution_count": 176,
   "metadata": {},
   "outputs": [],
   "source": [
    "#making file from video id\n",
    "# type below with vidoe_id \n",
    "video_id = 252984523 #sample vid\n",
    "#'twitch-chatlog {video_id} -r -no-progress --end=2018-07-20T20:37:44+0000 > {output_filename}'\n",
    "# if with color; \n",
    "# 'twitch-chatlog {video_id} -c -r -no-progress --end=2018-07-20T20:37:44+0000 > {output_filename}'\n",
    "import json\n",
    "from dateutil import parser\n",
    "import datetime"
   ]
  },
  {
   "cell_type": "code",
   "execution_count": null,
   "metadata": {},
   "outputs": [],
   "source": [
    "def open_video_file(filename):\n",
    "    with open('data/'+filename,'r') as f:\n",
    "        data = json.load(f)\n",
    "    return data    \n",
    "data = open_video_file(video_id)"
   ]
  },
  {
   "cell_type": "code",
   "execution_count": 4,
   "metadata": {},
   "outputs": [],
   "source": [
    "#helper function\n",
    "def jprint(j):\n",
    "    print(json.dumps(j,indent=4,sort_keys=True))"
   ]
  },
  {
   "cell_type": "code",
   "execution_count": 233,
   "metadata": {},
   "outputs": [
    {
     "data": {
      "text/plain": [
       "datetime.timedelta(0, 9032)"
      ]
     },
     "execution_count": 233,
     "metadata": {},
     "output_type": "execute_result"
    }
   ],
   "source": [
    "parser.parse('2h30m32s') - parser.parse('0h0m0s')"
   ]
  },
  {
   "cell_type": "code",
   "execution_count": null,
   "metadata": {},
   "outputs": [],
   "source": [
    "def get_client_id():\n",
    "    with open('clientid.txt','r') as f:\n",
    "        cid= f.readline().strip()\n",
    "    return cid"
   ]
  },
  {
   "cell_type": "code",
   "execution_count": null,
   "metadata": {},
   "outputs": [],
   "source": [
    "import requests\n",
    "from bs4 import BeautifulSoup as bs\n",
    "def get_video_lengths(vids):\n",
    "    url = 'https://api.twitch.tv/helix/videos'\n",
    "    params = {'id': vids } #['252984523','252984524','257570102']}\n",
    "    headers = {'Client-ID': get_client_id()} #JM id\n",
    "    page = requests.get(url, headers=headers,params=params)\n",
    "    soup = bs(page.text,'lxml')\n",
    "    videos = json.loads(soup.select('p')[0].text)['data']\n",
    "    vlens = []\n",
    "    for v in videos:\n",
    "        vlens.append(parser.parse(v['duration'])- parser.parse('0h0m0s'))\n",
    "    return vlens\n",
    "\n",
    "def get_video_length(vid):\n",
    "    first = data[0]\n",
    "    last = data[-1]\n",
    "    deltime = parser.parse(last['created_at'])-parser.parse(first['created_at'])\n",
    "    return deltime"
   ]
  },
  {
   "cell_type": "code",
   "execution_count": 239,
   "metadata": {
    "scrolled": true
   },
   "outputs": [
    {
     "name": "stdout",
     "output_type": "stream",
     "text": [
      "2:45:03.593000\n",
      "2018-04-21 23:26:53.416000+00:00\n",
      "<html><body><p>{\"data\":[{\"id\":\"252984523\",\"user_id\":\"102381201\",\"title\":\"C9 따효니 오늘 박제각 잡음\",\"description\":\"\",\"created_at\":\"2018-04-21T20:41:41Z\",\"published_at\":\"2018-04-21T20:41:41Z\",\"url\":\"https://www.twitch.tv/videos/252984523\",\"thumbnail_url\":\"https://static-cdn.jtvnw.net/s3_vods/30e04568c0447767a274_ddahyoni_28419446736_844885585/thumb/thumb0-%{width}x%{height}.jpg\",\"viewable\":\"public\",\"view_count\":4983,\"language\":\"ko\",\"type\":\"archive\",\"duration\":\"2h44m52s\"}],\"pagination\":{}}</p></body></html>\n",
      "2:44:52\n"
     ]
    }
   ],
   "source": [
    "print((get_video_length(data)))\n",
    "print(parser.parse(data[-1]['created_at']))\n",
    "print(get_video_lengths(['252984523'])[0])"
   ]
  },
  {
   "cell_type": "code",
   "execution_count": 91,
   "metadata": {},
   "outputs": [],
   "source": [
    "#interval should be second\n",
    "def cdf(data,interval):\n",
    "    counting_ = {}\n",
    "    last_time = data[-1]['content_offset_seconds']\n",
    "    n = int(last_time/interval)\n",
    "    for i in range(n+1):\n",
    "        counting_[(i*interval,(i+1)*interval)] = 0\n",
    "    for log in data:\n",
    "        t = log['content_offset_seconds']\n",
    "        p = (int(t/interval)*interval,(int(t/interval)+1)*interval)\n",
    "        counting_[p]+=1\n",
    "    return counting_\n",
    "        \n",
    "        \n",
    "        "
   ]
  },
  {
   "cell_type": "code",
   "execution_count": 94,
   "metadata": {},
   "outputs": [],
   "source": [
    "cdf_video= cdf(data,60)"
   ]
  },
  {
   "cell_type": "code",
   "execution_count": 101,
   "metadata": {},
   "outputs": [],
   "source": [
    "def get_chatrate(data):\n",
    "    vlen = get_video_length(data)\n",
    "    m= vlen.seconds//60\n",
    "    return len(data)/m"
   ]
  },
  {
   "cell_type": "code",
   "execution_count": 102,
   "metadata": {},
   "outputs": [
    {
     "data": {
      "text/plain": [
       "90.32727272727273"
      ]
     },
     "execution_count": 102,
     "metadata": {},
     "output_type": "execute_result"
    }
   ],
   "source": [
    "get_chatrate(data) # chat per min"
   ]
  },
  {
   "cell_type": "code",
   "execution_count": 118,
   "metadata": {},
   "outputs": [],
   "source": [
    "def get_chatlen_cdf(data):\n",
    "    d= {}\n",
    "    for log in data:\n",
    "        mlen = len(log['message']['body'])\n",
    "        d[mlen] = d.get(mlen,0)+1\n",
    "    return d"
   ]
  },
  {
   "cell_type": "code",
   "execution_count": 119,
   "metadata": {},
   "outputs": [],
   "source": [
    "cdf_chatlen = get_chatlen_cdf(data)"
   ]
  },
  {
   "cell_type": "code",
   "execution_count": 124,
   "metadata": {},
   "outputs": [],
   "source": [
    "with open('chatlen.csv','w') as f:\n",
    "    for k in cdf_chatlen.keys():\n",
    "        f.write(str(k)+','+str(cdf_chatlen[k])+'\\n')"
   ]
  },
  {
   "cell_type": "code",
   "execution_count": 127,
   "metadata": {},
   "outputs": [],
   "source": [
    "with open('chat_cdf.csv','w') as f:\n",
    "    for k in cdf_video.keys():\n",
    "        f.write(str(k[0])+','+str(cdf_video[k])+'\\n')"
   ]
  },
  {
   "cell_type": "code",
   "execution_count": 132,
   "metadata": {},
   "outputs": [],
   "source": [
    "def user_chatfreq(data):\n",
    "    res = {}\n",
    "    for log in data:\n",
    "        res[log['commenter']['_id']] =res.get(log['commenter']['_id'],0)+1\n",
    "    return res"
   ]
  },
  {
   "cell_type": "code",
   "execution_count": 133,
   "metadata": {},
   "outputs": [],
   "source": [
    "user_chatfreq_dict = user_chatfreq(data)"
   ]
  },
  {
   "cell_type": "code",
   "execution_count": 134,
   "metadata": {},
   "outputs": [
    {
     "data": {
      "text/plain": [
       "1711"
      ]
     },
     "execution_count": 134,
     "metadata": {},
     "output_type": "execute_result"
    }
   ],
   "source": [
    "len(user_chatfreq_dict.keys())"
   ]
  },
  {
   "cell_type": "code",
   "execution_count": 136,
   "metadata": {},
   "outputs": [],
   "source": [
    "with open('user_chat.csv','w') as f:\n",
    "    for k in user_chatfreq_dict.keys():\n",
    "        f.write(str(k)+','+str(user_chatfreq_dict[k])+'\\n')"
   ]
  },
  {
   "cell_type": "code",
   "execution_count": 145,
   "metadata": {},
   "outputs": [],
   "source": [
    "def user_chat(data):\n",
    "    res = {}\n",
    "    for log in data:\n",
    "        t = res.get(log['commenter']['_id'],[])\n",
    "        t.append(log['message']['body'])\n",
    "        res[log['commenter']['_id']] = t\n",
    "    return res"
   ]
  },
  {
   "cell_type": "code",
   "execution_count": 146,
   "metadata": {},
   "outputs": [],
   "source": [
    "uc = user_chat(data)"
   ]
  },
  {
   "cell_type": "code",
   "execution_count": 158,
   "metadata": {},
   "outputs": [
    {
     "data": {
      "text/plain": [
       "['따하',\n",
       " 'BibleThump BibleThump BibleThump BibleThump',\n",
       " 'TPFufun',\n",
       " '잠크리트 인구측정 ㄷㄷㄷ',\n",
       " 'ㅋㅋㅋㅋㅋㅋㅋㅋㅋㅋㅋㅋㅋㅋㅋㅋㅋㅋㅋㅋㅋㅋㅋㅋ',\n",
       " '따즈',\n",
       " 'ㄹㄹㅇ',\n",
       " '??',\n",
       " '노래방 디스코1',\n",
       " 'ㅋㅋㅋㅋㅋㅋㅋㅋㅋㅋㅋㅋㅋㅋㅋㅋㅋㅋ',\n",
       " 'ㅋㅋㅋㅋㅋㅋㅋㅋㅋㅋㅋㅋㅋㅋㅋㅋㅋㅋㅋㅋㅋㅋ',\n",
       " '무슨일이지~',\n",
       " '바하',\n",
       " '그래 5 좋아',\n",
       " '스펀지밥 ㄷㄷ',\n",
       " 'ResidentSleeper ResidentSleeper',\n",
       " 'ㅋㅋㅋㅋㅋㅋㅋㅋㅋㅋㅋㅋㅋㅋㅋㅋㅋㅋㅋㅋ',\n",
       " '?',\n",
       " '건전지 충전하러감',\n",
       " 'BloodTrail BloodTrail',\n",
       " 'BloodTrail BloodTrail BloodTrail',\n",
       " 'BloodTrail BloodTrail',\n",
       " 'ㅋㅋㅋㅋㅋㅋㅋㅋ',\n",
       " 'ㅋㅋㅋㅋㅋㅋㅋㅋㅋㅋ',\n",
       " '패배의 기운이 스멀스멀',\n",
       " '상특',\n",
       " 'ㅋㅋㅋㅋㅋㅋㅋ',\n",
       " '킹룡의갓집 나와주세요',\n",
       " 'ㄱㄱㄱㄱㅇㄱㅇ',\n",
       " '리로이',\n",
       " '105등각',\n",
       " 'ㅇㅎㅎ',\n",
       " '상대는 12시다',\n",
       " '누가 새우탕에 약넣엇냐',\n",
       " '따라닥스',\n",
       " 'ㅈㅈ',\n",
       " '님도 성기사하셈ㅋ',\n",
       " '살아남지 못하리라~',\n",
       " '?',\n",
       " 'ㅁㅊㄷㅁㅊㅇ',\n",
       " '갓을방학',\n",
       " 'ㅋㅋㅋㅋㅋㅋㅋㅋㅋㅋ',\n",
       " 'naga',\n",
       " '띠링',\n",
       " '줄건줘',\n",
       " '따라닥스',\n",
       " '띠링도적',\n",
       " '들썩',\n",
       " '바하',\n",
       " '????',\n",
       " '6코 적 하수인에게 랜덤8딜쓰냐',\n",
       " '기도메타',\n",
       " '리로이뿐이야',\n",
       " '나와드렷읍니다',\n",
       " '들썩',\n",
       " 'PogChamp PogChamp',\n",
       " '부 ㅡ 엉',\n",
       " 'Kreygasm',\n",
       " ':/ PogChamp PogChamp']"
      ]
     },
     "execution_count": 158,
     "metadata": {},
     "output_type": "execute_result"
    }
   ],
   "source": [
    "uc['163024752']"
   ]
  },
  {
   "cell_type": "code",
   "execution_count": 174,
   "metadata": {},
   "outputs": [],
   "source": [
    "def get_video_json(video_id):\n",
    "    import subprocess\n",
    "    endpoint = '2018-07-20T20:37:44+0000'\n",
    "    #video_id = 252984523\n",
    "    output = '{video_id}.json'.format(video_id=video_id)\n",
    "    cmd = 'twitch-chatlog {video_id} -r -no-progress --end={endpoint} > data/{output_filename}'\\\n",
    "    .format(video_id=video_id,endpoint=endpoint,output_filename=output)\n",
    "    subprocess.call(cmd,shell=True)\n",
    "    return "
   ]
  },
  {
   "cell_type": "code",
   "execution_count": 246,
   "metadata": {},
   "outputs": [],
   "source": [
    "def main():\n",
    "    import pandas as pd\n",
    "    filename= 'asjdkfl' #vid list filename\n",
    "    #vids = pvd(filename) # output = list of video id\n",
    "    vids = ['252984523','257570102']#['252984523']\n",
    "    \n",
    "    lst = [['video_id','video_length','chat_count','chat_avg_len','chat_cnt_per_person','chat_per_min','total_chatter']]\n",
    "    v_lengths = get_video_lengths(vids)\n",
    "    \n",
    "    for i in range(len(vids)):\n",
    "        #basic setting\n",
    "        vid = vids[i]\n",
    "        #generate {vid}.json\n",
    "        get_video_json(vid)\n",
    "        #1 video id\n",
    "        lst_v = [vid]\n",
    "        filename = '{vid}.json'.format(vid=vid)\n",
    "        # open file as data\n",
    "        data = open_video_file(filename)\n",
    "        #2 video length\n",
    "        lst_v.append(v_lengths[i])\n",
    "        #3 chat count\n",
    "        chat_cnt = len(data)\n",
    "        lst_v.append(chat_cnt)\n",
    "        #4 chat_avg_len  = total char of chat / chat count\n",
    "        uc = get_chatlen_cdf(data)\n",
    "        s = 0\n",
    "        for k in uc.keys():\n",
    "            s +=k*uc[k]\n",
    "        cal = s/chat_cnt\n",
    "        lst_v.append(cal)\n",
    "        #5 chat_cnt_per_person = chat count / total_chatter \n",
    "        usr_chat =user_chatfreq(data)\n",
    "        total_chatter = len(list(usr_chat.keys()))\n",
    "        ccpp = chat_cnt/total_chatter\n",
    "        lst_v.append(ccpp)\n",
    "        #6 chat_per_min = chat count / video length\n",
    "        lst_v.append(get_chatrate(data))\n",
    "        #7 total_chatter \n",
    "        lst_v.append(total_chatter)\n",
    "        lst.append(lst_v)\n",
    "    #saving as csv    \n",
    "    df = pd.DataFrame(lst[1:],columns=lst[0])# output_data[0]\n",
    "    df.to_csv('summary_statstics_testing.csv')\n",
    "    return\n",
    "        \n",
    "        "
   ]
  },
  {
   "cell_type": "code",
   "execution_count": 247,
   "metadata": {},
   "outputs": [
    {
     "name": "stdout",
     "output_type": "stream",
     "text": [
      "<html><body><p>{\"data\":[{\"id\":\"252984523\",\"user_id\":\"102381201\",\"title\":\"C9 따효니 오늘 박제각 잡음\",\"description\":\"\",\"created_at\":\"2018-04-21T20:41:41Z\",\"published_at\":\"2018-04-21T20:41:41Z\",\"url\":\"https://www.twitch.tv/videos/252984523\",\"thumbnail_url\":\"https://static-cdn.jtvnw.net/s3_vods/30e04568c0447767a274_ddahyoni_28419446736_844885585/thumb/thumb0-%{width}x%{height}.jpg\",\"viewable\":\"public\",\"view_count\":4983,\"language\":\"ko\",\"type\":\"archive\",\"duration\":\"2h44m52s\"},{\"id\":\"257570102\",\"user_id\":\"102381201\",\"title\":\"C9 따효니\",\"description\":\"\",\"created_at\":\"2018-05-04T11:54:40Z\",\"published_at\":\"2018-05-04T11:54:40Z\",\"url\":\"https://www.twitch.tv/videos/257570102\",\"thumbnail_url\":\"https://static-cdn.jtvnw.net/s3_vods/9796a81d156eb265c4a8_ddahyoni_28570383584_854319138/thumb/thumb0-%{width}x%{height}.jpg\",\"viewable\":\"public\",\"view_count\":3590,\"language\":\"ko\",\"type\":\"archive\",\"duration\":\"10h21m56s\"}],\"pagination\":{}}</p></body></html>\n"
     ]
    }
   ],
   "source": [
    "main()"
   ]
  },
  {
   "cell_type": "code",
   "execution_count": 216,
   "metadata": {},
   "outputs": [
    {
     "data": {
      "text/plain": [
       "<p>{\"data\":[{\"id\":\"252984523\",\"user_id\":\"102381201\",\"title\":\"C9 따효니 오늘 박제각 잡음\",\"description\":\"\",\"created_at\":\"2018-04-21T20:41:41Z\",\"published_at\":\"2018-04-21T20:41:41Z\",\"url\":\"https://www.twitch.tv/videos/252984523\",\"thumbnail_url\":\"https://static-cdn.jtvnw.net/s3_vods/30e04568c0447767a274_ddahyoni_28419446736_844885585/thumb/thumb0-%{width}x%{height}.jpg\",\"viewable\":\"public\",\"view_count\":4983,\"language\":\"ko\",\"type\":\"archive\",\"duration\":\"2h44m52s\"},{\"id\":\"252984524\",\"user_id\":\"186616900\",\"title\":\"PUBG WackyJacky101 birthday server duos\",\"description\":\"\",\"created_at\":\"2018-04-21T20:41:41Z\",\"published_at\":\"2018-04-21T20:41:41Z\",\"url\":\"https://www.twitch.tv/videos/252984524\",\"thumbnail_url\":\"https://static-cdn.jtvnw.net/s3_vods/96772d66686b2b82163f_konfuzer17_28419446496_844885570/thumb/thumb0-%{width}x%{height}.jpg\",\"viewable\":\"public\",\"view_count\":0,\"language\":\"en\",\"type\":\"archive\",\"duration\":\"35m33s\"}],\"pagination\":{}}</p>"
      ]
     },
     "execution_count": 216,
     "metadata": {},
     "output_type": "execute_result"
    }
   ],
   "source": [
    "soup.select('p')[0]"
   ]
  },
  {
   "cell_type": "code",
   "execution_count": 221,
   "metadata": {},
   "outputs": [],
   "source": []
  },
  {
   "cell_type": "code",
   "execution_count": 225,
   "metadata": {},
   "outputs": [
    {
     "data": {
      "text/plain": [
       "{'created_at': '2018-04-21T20:41:41Z',\n",
       " 'description': '',\n",
       " 'duration': '2h44m52s',\n",
       " 'id': '252984523',\n",
       " 'language': 'ko',\n",
       " 'published_at': '2018-04-21T20:41:41Z',\n",
       " 'thumbnail_url': 'https://static-cdn.jtvnw.net/s3_vods/30e04568c0447767a274_ddahyoni_28419446736_844885585/thumb/thumb0-%{width}x%{height}.jpg',\n",
       " 'title': 'C9 따효니 오늘 박제각 잡음',\n",
       " 'type': 'archive',\n",
       " 'url': 'https://www.twitch.tv/videos/252984523',\n",
       " 'user_id': '102381201',\n",
       " 'view_count': 4983,\n",
       " 'viewable': 'public'}"
      ]
     },
     "execution_count": 225,
     "metadata": {},
     "output_type": "execute_result"
    }
   ],
   "source": [
    "d[0]"
   ]
  },
  {
   "cell_type": "code",
   "execution_count": null,
   "metadata": {},
   "outputs": [],
   "source": []
  }
 ],
 "metadata": {
  "kernelspec": {
   "display_name": "Python 3",
   "language": "python",
   "name": "python3"
  },
  "language_info": {
   "codemirror_mode": {
    "name": "ipython",
    "version": 3
   },
   "file_extension": ".py",
   "mimetype": "text/x-python",
   "name": "python",
   "nbconvert_exporter": "python",
   "pygments_lexer": "ipython3",
   "version": "3.6.4"
  }
 },
 "nbformat": 4,
 "nbformat_minor": 2
}
